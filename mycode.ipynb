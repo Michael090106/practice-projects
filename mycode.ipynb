{
 "cells": [
  {
   "cell_type": "markdown",
   "id": "5f4374be",
   "metadata": {},
   "source": [
    "Strings"
   ]
  },
  {
   "cell_type": "code",
   "execution_count": 20,
   "id": "8721e116",
   "metadata": {},
   "outputs": [
    {
     "name": "stdout",
     "output_type": "stream",
     "text": [
      "sample\n",
      "sml\n",
      "text\n",
      "text\n"
     ]
    }
   ],
   "source": [
    "#slicing\n",
    "text = \"sample text\"\n",
    "print(text[0:6])\n",
    "print(text[0:6:2])\n",
    "print(text[7:11])\n",
    "print(text[-4:])\n"
   ]
  },
  {
   "cell_type": "code",
   "execution_count": 21,
   "id": "d3e5453b",
   "metadata": {},
   "outputs": [
    {
     "name": "stdout",
     "output_type": "stream",
     "text": [
      "My name is Michael and I am 19 years old.\n"
     ]
    }
   ],
   "source": [
    "#f-strings\n",
    "name = \"Michael\"\n",
    "age = 19\n",
    "print(f\"My name is {name} and I am {age} years old.\")"
   ]
  },
  {
   "cell_type": "code",
   "execution_count": 24,
   "id": "46d92a07",
   "metadata": {},
   "outputs": [
    {
     "name": "stdout",
     "output_type": "stream",
     "text": [
      "My name is Michael and I am 19 years old.\n"
     ]
    }
   ],
   "source": [
    "#.format()\n",
    "template = \"My name is {} and I am {} years old.\"\n",
    "print(template.format(\"Michael\", 19))\n"
   ]
  },
  {
   "cell_type": "code",
   "execution_count": null,
   "id": "29c513a8",
   "metadata": {},
   "outputs": [
    {
     "name": "stdout",
     "output_type": "stream",
     "text": [
      "HELLO WORLD\n",
      "hello world\n",
      "Hello World\n",
      "hello Python\n",
      "['hello', 'world']\n"
     ]
    }
   ],
   "source": [
    "#other string functions\n",
    "text = \"hello world\"\n",
    "print(text.upper())    # HELLO WORLD\n",
    "print(text.lower())    # hello world\n",
    "print(text.title())    # Hello World\n",
    "print(text.replace(\"world\", \"Python\"))  # hello Python\n",
    "print(text.split())    # ['hello', 'world']"
   ]
  },
  {
   "cell_type": "code",
   "execution_count": null,
   "id": "79efd598",
   "metadata": {},
   "outputs": [
    {
     "name": "stdout",
     "output_type": "stream",
     "text": [
      "Michael Pretorius\n"
     ]
    }
   ],
   "source": [
    "#concatanation\n",
    "first = \"Michael\"\n",
    "second = \"Pretorius\"\n",
    "name = first + \" \" + second\n",
    "print(name)"
   ]
  },
  {
   "cell_type": "code",
   "execution_count": null,
   "id": "85ba4ea2",
   "metadata": {},
   "outputs": [
    {
     "name": "stdout",
     "output_type": "stream",
     "text": [
      "['apple', 'banana', 'orange']\n",
      "['one', 'two', 'three']\n"
     ]
    }
   ],
   "source": [
    "#.split()\n",
    "text = \"apple,banana,orange\"\n",
    "print(text.split(\",\"))  # Output: ['apple', 'banana', 'orange']\n",
    "\n",
    "text2 = \"one-two-three\"\n",
    "print(text2.split(\"-\"))  # Output: ['one', 'two', 'three']"
   ]
  },
  {
   "cell_type": "code",
   "execution_count": 31,
   "id": "9e131cf5",
   "metadata": {},
   "outputs": [
    {
     "name": "stdout",
     "output_type": "stream",
     "text": [
      "6\n"
     ]
    }
   ],
   "source": [
    "#length of string\n",
    "text = \"Python\"\n",
    "print(len(text))"
   ]
  },
  {
   "cell_type": "code",
   "execution_count": 33,
   "id": "665f73c7",
   "metadata": {},
   "outputs": [
    {
     "name": "stdout",
     "output_type": "stream",
     "text": [
      "He said \"Hello, World!\"\n",
      "hello\n",
      "world\n"
     ]
    }
   ],
   "source": [
    "#escape characters\n",
    "print(\"He said \\\"Hello, World!\\\"\")\n",
    "print(\"hello\\nworld\")"
   ]
  },
  {
   "cell_type": "code",
   "execution_count": 38,
   "id": "eb1360a3",
   "metadata": {},
   "outputs": [
    {
     "name": "stdout",
     "output_type": "stream",
     "text": [
      "True\n",
      "True\n"
     ]
    }
   ],
   "source": [
    "#membership\n",
    "text = \"hello world\"\n",
    "print(\"hello\" in text)\n",
    "print(\"Mihael\" not in text)"
   ]
  },
  {
   "cell_type": "code",
   "execution_count": null,
   "id": "f6861105",
   "metadata": {},
   "outputs": [
    {
     "name": "stdout",
     "output_type": "stream",
     "text": [
      "['apple', 'banana', 'orange']\n"
     ]
    }
   ],
   "source": [
    "#more .spit() examples\n",
    "fruits = \"apple-banana-orange\"\n",
    "print(fruits.split(\"-\"))"
   ]
  },
  {
   "cell_type": "code",
   "execution_count": 41,
   "id": "e6c06660",
   "metadata": {},
   "outputs": [
    {
     "name": "stdout",
     "output_type": "stream",
     "text": [
      "hello world\n"
     ]
    }
   ],
   "source": [
    "#strip whitespace\n",
    "text = \"     hello world   \"\n",
    "print(text.strip())"
   ]
  },
  {
   "cell_type": "code",
   "execution_count": null,
   "id": "c245f515",
   "metadata": {},
   "outputs": [],
   "source": [
    "git add ."
   ]
  }
 ],
 "metadata": {
  "kernelspec": {
   "display_name": "Python 3",
   "language": "python",
   "name": "python3"
  },
  "language_info": {
   "codemirror_mode": {
    "name": "ipython",
    "version": 3
   },
   "file_extension": ".py",
   "mimetype": "text/x-python",
   "name": "python",
   "nbconvert_exporter": "python",
   "pygments_lexer": "ipython3",
   "version": "3.10.6"
  }
 },
 "nbformat": 4,
 "nbformat_minor": 5
}
